{
 "cells": [
  {
   "cell_type": "markdown",
   "metadata": {},
   "source": [
    "# Ends with String"
   ]
  },
  {
   "cell_type": "code",
   "execution_count": 18,
   "metadata": {
    "dotnet_interactive": {
     "language": "csharp"
    },
    "polyglot_notebook": {
     "kernelName": "csharp"
    }
   },
   "outputs": [
    {
     "data": {
      "text/html": [
       "<div class=\"dni-plaintext\"><pre>True</pre></div><style>\r\n",
       ".dni-code-hint {\r\n",
       "    font-style: italic;\r\n",
       "    overflow: hidden;\r\n",
       "    white-space: nowrap;\r\n",
       "}\r\n",
       ".dni-treeview {\r\n",
       "    white-space: nowrap;\r\n",
       "}\r\n",
       ".dni-treeview td {\r\n",
       "    vertical-align: top;\r\n",
       "    text-align: start;\r\n",
       "}\r\n",
       "details.dni-treeview {\r\n",
       "    padding-left: 1em;\r\n",
       "}\r\n",
       "table td {\r\n",
       "    text-align: start;\r\n",
       "}\r\n",
       "table tr { \r\n",
       "    vertical-align: top; \r\n",
       "    margin: 0em 0px;\r\n",
       "}\r\n",
       "table tr td pre \r\n",
       "{ \r\n",
       "    vertical-align: top !important; \r\n",
       "    margin: 0em 0px !important;\r\n",
       "} \r\n",
       "table th {\r\n",
       "    text-align: start;\r\n",
       "}\r\n",
       "</style>"
      ]
     },
     "metadata": {},
     "output_type": "display_data"
    }
   ],
   "source": [
    "bool EndsWith(string str, string ending) => str.EndsWith(ending);\n",
    "\n",
    "var sampleTestCases = new object[]\n",
    "{\n",
    "    new object[] {\"samurai\", \"ai\", true},\n",
    "    new object[] {\"sumo\", \"omo\", false},\n",
    "    new object[] {\"ninja\", \"ja\", true},\n",
    "    new object[] {\"sensei\", \"i\", true},\n",
    "    new object[] {\"samurai\", \"ra\", false},\n",
    "    new object[] {\"abc\", \"abcd\", false},\n",
    "    new object[] {\"abc\", \"abc\", true},\n",
    "    new object[] {\"abcabc\", \"bc\", true},\n",
    "    new object[] {\"ails\", \"fails\", false},\n",
    "    new object[] {\"fails\", \"ails\", true},\n",
    "    new object[] {\"this\", \"fails\", false},\n",
    "    new object[] {\"abc\", \"\", true},\n",
    "    new object[] {\":-)\", \":-(\", false},\n",
    "    new object[] {\"!@#$%^&*() :-)\", \":-)\", true},\n",
    "    new object[] {\"abc\\n\", \"abc\", false},\n",
    "};\n",
    "\n",
    "object[] test = (sampleTestCases[1] as object[]);\n",
    "\n",
    "EndsWith(test[0] as string, test[1] as string) == (bool)test[2]\n"
   ]
  },
  {
   "cell_type": "code",
   "execution_count": 24,
   "metadata": {
    "dotnet_interactive": {
     "language": "csharp"
    },
    "polyglot_notebook": {
     "kernelName": "csharp"
    }
   },
   "outputs": [
    {
     "name": "stdout",
     "output_type": "stream",
     "text": [
      "umo\n",
      "omo\n",
      "Did match: True\n"
     ]
    }
   ],
   "source": [
    "bool MyEndsWith(string str, string ending) {\n",
    "    var a = str.ToCharArray().ToList().Skip(str.Length - ending.Length).Take(ending.Length);\n",
    "    var end = string.Join(\"\", a);\n",
    "    return ending == end;\n",
    "}\n",
    "\n",
    "object[] test = (sampleTestCases[1] as object[]);\n",
    "\n",
    "var result = MyEndsWith(test[0] as string, test[1] as string) == (bool)test[2];\n",
    "Console.WriteLine($\"Did match: {result}\");"
   ]
  },
  {
   "cell_type": "code",
   "execution_count": 27,
   "metadata": {
    "dotnet_interactive": {
     "language": "csharp"
    },
    "polyglot_notebook": {
     "kernelName": "csharp"
    }
   },
   "outputs": [],
   "source": [
    "bool ReverseEndsWith(string str, string ending) {\n",
    "    for(var i = 0; i < ending.Length; i++)\n",
    "    {\n",
    "        if (str[str.Length - i - 1] != ending[ending.Length - i - 1]) {\n",
    "            return false;\n",
    "        }\n",
    "    }\n",
    "\n",
    "    return true;\n",
    "}"
   ]
  },
  {
   "cell_type": "code",
   "execution_count": 33,
   "metadata": {
    "dotnet_interactive": {
     "language": "csharp"
    },
    "polyglot_notebook": {
     "kernelName": "csharp"
    }
   },
   "outputs": [
    {
     "name": "stdout",
     "output_type": "stream",
     "text": [
      "Did match: True\r\n"
     ]
    }
   ],
   "source": [
    "object[] test = (sampleTestCases[7] as object[]);\n",
    "\n",
    "var result = ReverseEndsWith(test[0] as string, test[1] as string) == (bool)test[2];\n",
    "Console.WriteLine($\"Did match: {result}\");"
   ]
  },
  {
   "cell_type": "code",
   "execution_count": null,
   "metadata": {
    "dotnet_interactive": {
     "language": "csharp"
    },
    "polyglot_notebook": {
     "kernelName": "csharp"
    }
   },
   "outputs": [],
   "source": []
  }
 ],
 "metadata": {
  "kernelspec": {
   "display_name": ".NET (C#)",
   "language": "C#",
   "name": ".net-csharp"
  },
  "language_info": {
   "name": "polyglot-notebook"
  },
  "orig_nbformat": 4,
  "polyglot_notebook": {
   "kernelInfo": {
    "defaultKernelName": "csharp",
    "items": [
     {
      "aliases": [],
      "name": "csharp"
     }
    ]
   }
  }
 },
 "nbformat": 4,
 "nbformat_minor": 2
}
